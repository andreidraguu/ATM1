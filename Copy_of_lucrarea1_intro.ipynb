{
  "nbformat": 4,
  "nbformat_minor": 0,
  "metadata": {
    "colab": {
      "provenance": [],
      "collapsed_sections": [
        "E-gO25Jg3WqE",
        "6HC7gTUg99Zq",
        "S1e7ym8gGhbR",
        "jMdye6Dz6eye",
        "oMgaBV8gDHiz",
        "yZFrXodQDcG2",
        "qEaERW_BM1WY"
      ],
      "toc_visible": true,
      "include_colab_link": true
    },
    "kernelspec": {
      "name": "python3",
      "display_name": "Python 3"
    },
    "language_info": {
      "name": "python"
    }
  },
  "cells": [
    {
      "cell_type": "markdown",
      "metadata": {
        "id": "view-in-github",
        "colab_type": "text"
      },
      "source": [
        "<a href=\"https://colab.research.google.com/github/andreidraguu/ATM1/blob/master/Copy_of_lucrarea1_intro.ipynb\" target=\"_parent\"><img src=\"https://colab.research.google.com/assets/colab-badge.svg\" alt=\"Open In Colab\"/></a>"
      ]
    },
    {
      "cell_type": "markdown",
      "metadata": {
        "id": "Au44bp15mbWu"
      },
      "source": [
        "#Introducere "
      ]
    },
    {
      "cell_type": "markdown",
      "metadata": {
        "id": "05tMhzkNPhb8"
      },
      "source": [
        "Obiectiv. Această  lucrare îsi propune familiarizarea studentilor cu limbajul de programare Python - mediul Colab pentru simularea conceptelor din Teoria Informatiei.  Vor fi parcurse:\n",
        " \n",
        "1.  Notiuni  de bază in Python : tipuri de date (containere, liste, dicționare, seturi, tupluri), funcții, clase\n",
        "2.  Calcul matriceal,  Numpy: matrice, indexare matrice, tipuri de date, matematică matrice, broadcasting\n",
        "3.  Elemente de grafica, Matplotlib: Figuri, Subplots, Imagini\n",
        "4. Exercitii\n",
        "\n",
        "\n",
        "\n"
      ]
    },
    {
      "cell_type": "markdown",
      "metadata": {
        "id": "E-gO25Jg3WqE"
      },
      "source": [
        "\n",
        "##Descrierea mediului de lucru"
      ]
    },
    {
      "cell_type": "markdown",
      "metadata": {
        "id": "pafIa8kY32xV"
      },
      "source": [
        "Python este un limbaj de programare de uz general, de sine statator insă, cu ajutorul câtorva biblioteci populare (numpy, scipy, matplotlib) devine un mediu puternic pentru calculul științific. \n",
        "Colaboratory, sau „Colab” pe scurt, este un produs al Google Research. Colab permite oricui să scrie și să execute coduri Python folosind browser-ul. Este util pentru învățarea automată, analiza datelor și educație. O definitie mai tehnica  ar fi: Colab este un serviciu de notebook-uri Jupyter găzduit de Google, care nu necesită nicio configurare pentru utilizare, oferind în același timp acces gratuit la resurse de calcul performante, inclusiv GPU-uri. \n",
        "\n",
        "\n",
        " Versiunea Python curenta se poate verifica din linia de comandă executând !python --version.  Incepând din aprilie 2020, Colab folosește Python 3.6.9 care ar trebui să ruleze totul fără erori."
      ]
    },
    {
      "cell_type": "code",
      "metadata": {
        "id": "o24f5-HPBleE",
        "colab": {
          "base_uri": "https://localhost:8080/"
        },
        "outputId": "66752b1d-5763-487a-c058-875bb04ee722"
      },
      "source": [
        "!python --version\n"
      ],
      "execution_count": null,
      "outputs": [
        {
          "output_type": "stream",
          "name": "stdout",
          "text": [
            "Python 3.7.14\n"
          ]
        }
      ]
    },
    {
      "cell_type": "markdown",
      "metadata": {
        "id": "0y5-Gi0GBgKw"
      },
      "source": [
        "##Tipuri de date de bază in Python\n"
      ]
    },
    {
      "cell_type": "markdown",
      "metadata": {
        "id": "rM9fIT0EvNJU"
      },
      "source": []
    },
    {
      "cell_type": "markdown",
      "metadata": {
        "id": "6HC7gTUg99Zq"
      },
      "source": [
        "###Numere"
      ]
    },
    {
      "cell_type": "markdown",
      "metadata": {
        "id": "z82coJSn-nlB"
      },
      "source": [
        "Există trei categorii numerice distincte: numere întregi (integers), numere cu virgulă mobilă (floats) și numere complexe. În plus, Booleans este o subcategorie de numere întregi. Numerele întregi au o precizie nelimitată. Numerele în virgulă mobilă sunt de obicei implementate folosind double în C; Numerele complexe au o parte reală și imaginară, care sunt fiecare un număr în virgulă mobilă. Pentru a extrage aceste părți dintr-un număr complex z, utilizați *z.real* și *z.imag*. "
      ]
    },
    {
      "cell_type": "code",
      "metadata": {
        "colab": {
          "base_uri": "https://localhost:8080/"
        },
        "id": "ISPYbWWx-0fA",
        "outputId": "1320e7d1-1415-4082-b5f3-5c964a5cfd07"
      },
      "source": [
        "x =-24\n",
        "print(x, type(x))"
      ],
      "execution_count": null,
      "outputs": [
        {
          "output_type": "stream",
          "name": "stdout",
          "text": [
            "-24 <class 'int'>\n"
          ]
        }
      ]
    },
    {
      "cell_type": "markdown",
      "metadata": {
        "id": "nSaQVvpiCNiV"
      },
      "source": [
        "Operatii matematice uzuale:"
      ]
    },
    {
      "cell_type": "code",
      "metadata": {
        "colab": {
          "base_uri": "https://localhost:8080/"
        },
        "id": "0HaoxH7F-9iI",
        "outputId": "9d68d878-e96f-49f9-92ce-f039092d2a6e"
      },
      "source": [
        "print(x + 50+45)   # Adunarea\n",
        "print(x -2 +6)   # Scaderea\n",
        "print(x * 2*4)   # Inmultirea\n",
        "print(x / 2/3)   # Impartirea \n",
        "print(x % 3)   #restul impartirii\n",
        "print(x**3)   # Ridicarea la putere\n",
        "print (-x) \n",
        "print(abs(x)) # modul x"
      ],
      "execution_count": null,
      "outputs": [
        {
          "output_type": "stream",
          "name": "stdout",
          "text": [
            "71\n",
            "-20\n",
            "-192\n",
            "-4.0\n",
            "0\n",
            "-13824\n",
            "24\n",
            "24\n"
          ]
        }
      ]
    },
    {
      "cell_type": "markdown",
      "metadata": {
        "id": "YuS72EqEF2Gs"
      },
      "source": [
        "Pentru ridicarea la putere se poate folosi si:"
      ]
    },
    {
      "cell_type": "code",
      "metadata": {
        "colab": {
          "base_uri": "https://localhost:8080/"
        },
        "id": "4vPem4uYF5ky",
        "outputId": "f39c960c-06ef-43f9-d613-caf43d6e9e3d"
      },
      "source": [
        "y=3\n",
        "print(pow(x,y))\n",
        "print(x ** y)"
      ],
      "execution_count": null,
      "outputs": [
        {
          "output_type": "stream",
          "name": "stdout",
          "text": [
            "-13824\n",
            "-13824\n"
          ]
        }
      ]
    },
    {
      "cell_type": "code",
      "metadata": {
        "colab": {
          "base_uri": "https://localhost:8080/"
        },
        "id": "J1d1tgVBDEFW",
        "outputId": "3bc47072-f1c1-4cc1-df02-41e3dcfddb7c"
      },
      "source": [
        "x += 6 # x=x+6\n",
        "print(x)\n",
        "x -= 25 #x=x-25\n",
        "print(x)"
      ],
      "execution_count": null,
      "outputs": [
        {
          "output_type": "stream",
          "name": "stdout",
          "text": [
            "-18\n",
            "-43\n"
          ]
        }
      ]
    },
    {
      "cell_type": "markdown",
      "metadata": {
        "id": "eKOfgUl2D4GS"
      },
      "source": [
        "Observatie: Spre deosebire de alte limbaje (C/C++, Java, Javascript, C#, PHP) Python nu are operatori de incrementare(x++) sau decrementare (x--)."
      ]
    },
    {
      "cell_type": "code",
      "metadata": {
        "colab": {
          "base_uri": "https://localhost:8080/"
        },
        "id": "KQslYEOyDfJ4",
        "outputId": "fc00e429-c372-46c2-d9be-7229368bea25"
      },
      "source": [
        "z = 5.7\n",
        "print(type(z))\n",
        "m =999999999999999999999999999999999999999999999999999999999999999999999999999999999999\n",
        "print(type(m))\n",
        "print(z, z + 3, z * 5, z ** 3)"
      ],
      "execution_count": null,
      "outputs": [
        {
          "output_type": "stream",
          "name": "stdout",
          "text": [
            "<class 'float'>\n",
            "<class 'int'>\n",
            "5.7 8.7 28.5 185.193\n"
          ]
        }
      ]
    },
    {
      "cell_type": "markdown",
      "metadata": {
        "id": "S1e7ym8gGhbR"
      },
      "source": [
        "###Operatori Booleni"
      ]
    },
    {
      "cell_type": "markdown",
      "metadata": {
        "id": "AL8y_1JeGuoh"
      },
      "source": [
        "Pentru implementarea operatorilor uzuali in logica booleana Python foloseste cuvinte in loc de simboluri:"
      ]
    },
    {
      "cell_type": "code",
      "metadata": {
        "colab": {
          "base_uri": "https://localhost:8080/"
        },
        "id": "dGoI_9hvGhJZ",
        "outputId": "eafcf8d6-693b-40d4-e381-21f5371ea359"
      },
      "source": [
        "t= True\n",
        "print(type(t))\n",
        "l=False \n",
        "print(type(l))"
      ],
      "execution_count": null,
      "outputs": [
        {
          "output_type": "stream",
          "name": "stdout",
          "text": [
            "<class 'bool'>\n",
            "<class 'bool'>\n"
          ]
        }
      ]
    },
    {
      "cell_type": "code",
      "metadata": {
        "colab": {
          "base_uri": "https://localhost:8080/"
        },
        "id": "oNTULVzYG6hY",
        "outputId": "c1f97ea6-971f-411e-8c52-934a40ef092c"
      },
      "source": [
        "f=False\n",
        "\n",
        "print(t and f) #  AND;\n",
        "print(t or f)  #  OR;\n",
        "print(not t)   #  NOT;\n",
        "print(t != f)  #  XOR;//identic cu operatorul 'diferit'"
      ],
      "execution_count": null,
      "outputs": [
        {
          "output_type": "stream",
          "name": "stdout",
          "text": [
            "False\n",
            "True\n",
            "False\n",
            "True\n"
          ]
        }
      ]
    },
    {
      "cell_type": "code",
      "metadata": {
        "colab": {
          "base_uri": "https://localhost:8080/"
        },
        "id": "LwifcXvgVZbk",
        "outputId": "e6770723-d2c0-40ae-e893-30eaca76f573"
      },
      "source": [
        "a = -5\n",
        "b = -10\n",
        "c = 0\n",
        "  \n",
        "if a > 0 or b > 0:\n",
        "    print(\"Cel putin unul dintre cele doua nr. este mai mare decat 0\")\n",
        "else: \n",
        "  if a<0 and b<0:\n",
        "    print(\"Niciunul dintre numere nu este mai mare ca zero 0\")\n",
        "if a> 0 and b>0 : \n",
        "   print(\"Ambele numere sunt mai mari ca 0\")\n"
      ],
      "execution_count": null,
      "outputs": [
        {
          "output_type": "stream",
          "name": "stdout",
          "text": [
            "Niciunul dintre numere nu este mai mare ca zero 0\n"
          ]
        }
      ]
    },
    {
      "cell_type": "markdown",
      "metadata": {
        "id": "NmvwpLorWb04"
      },
      "source": [
        "###Caractere (Strings)"
      ]
    },
    {
      "cell_type": "code",
      "metadata": {
        "colab": {
          "base_uri": "https://localhost:8080/"
        },
        "id": "45KcoMsWWiyH",
        "outputId": "06893705-8031-4af4-b869-eae4e33a48bf"
      },
      "source": [
        "salut = 'buna dimineata'   # sirurile de caractere se definesc folosind fie prin ghilimele sau apostrof\n",
        "lab = \"in laborator ieri\"   \n",
        "print(salut, len(salut))  #afiseaza sirul de caractere din salut si lungimea din lab"
      ],
      "execution_count": null,
      "outputs": [
        {
          "output_type": "stream",
          "name": "stdout",
          "text": [
            "buna dimineata 14\n"
          ]
        }
      ]
    },
    {
      "cell_type": "code",
      "metadata": {
        "colab": {
          "base_uri": "https://localhost:8080/"
        },
        "id": "YdncCW2loiaU",
        "outputId": "6e456fca-c137-458c-a2d6-d0643dd15772"
      },
      "source": [
        "mesaj = salut + ' ' + lab  # Operatie de concatenare\n",
        "print(mesaj)#afiseaza sirul mesaj, concatenare a celor anterioare"
      ],
      "execution_count": null,
      "outputs": [
        {
          "output_type": "stream",
          "name": "stdout",
          "text": [
            "buna dimineata in laborator ieri\n"
          ]
        }
      ]
    },
    {
      "cell_type": "markdown",
      "metadata": {
        "id": "cfsId-dopBSM"
      },
      "source": [
        "Pentru variabilele de tip caracter exista o multime de optiuni:\n"
      ]
    },
    {
      "cell_type": "code",
      "metadata": {
        "colab": {
          "base_uri": "https://localhost:8080/"
        },
        "id": "XcrT7LK3pF0X",
        "outputId": "d0ba1eae-0a70-4b25-c983-0e9421363380"
      },
      "source": [
        "s = \"buna\"\n",
        "print(s.capitalize())  # Capitalize a string adica se asigura ca primul caracter din string e capital\n",
        "print(s.upper().rjust(20))       # Convert a string to uppercase and right justify in the same time; este evident, .rjust decaleaza cu un numar de spatii\n",
        "print(s.rjust(10))      # Right-justify a string, padding with spaces\n",
        "print(s.center(10))     # Center a string, padding with spaces\n",
        "print(s.replace('n', '(b)'))  # Replace all instances of one substring with another"
      ],
      "execution_count": null,
      "outputs": [
        {
          "output_type": "stream",
          "name": "stdout",
          "text": [
            "Buna\n",
            "                BUNA\n",
            "      buna\n",
            "   buna   \n",
            "bu(b)a\n"
          ]
        }
      ]
    },
    {
      "cell_type": "code",
      "metadata": {
        "colab": {
          "base_uri": "https://localhost:8080/",
          "height": 35
        },
        "id": "KEYo5k-qpqb9",
        "outputId": "702df599-804b-447d-ebfa-d3c75e14470d"
      },
      "source": [
        "'The sum of 2 + 5 is {0}'.format(2+5) #formatarea unui sir de caractere"
      ],
      "execution_count": null,
      "outputs": [
        {
          "output_type": "execute_result",
          "data": {
            "text/plain": [
              "'The sum of 2 + 5 is 7'"
            ],
            "application/vnd.google.colaboratory.intrinsic+json": {
              "type": "string"
            }
          },
          "metadata": {},
          "execution_count": 90
        }
      ]
    },
    {
      "cell_type": "markdown",
      "metadata": {
        "id": "9tOnHV7jq3jV"
      },
      "source": [
        "##Containere"
      ]
    },
    {
      "cell_type": "markdown",
      "metadata": {
        "id": "fAAgnr0orRAo"
      },
      "source": [
        "Python include cateva tipuri de containere: liste, dictionare, multimi (sets), si tuple (tuples)."
      ]
    },
    {
      "cell_type": "markdown",
      "metadata": {
        "id": "HcUkM3VFrraH"
      },
      "source": [
        "####Liste"
      ]
    },
    {
      "cell_type": "markdown",
      "metadata": {
        "id": "1gqfp2dOrztc"
      },
      "source": [
        "O listă este echivalentul Python al unei matrice, cu mentiunea ca este redimensionabilă și poate conține elemente de diferite tipuri. Aici [documentatie](https://docs.python.org/3.7/tutorial/datastructures.html#more-on-lists).\n",
        "**De retinut**. Indexul listei in Python incepe de la 0!!!"
      ]
    },
    {
      "cell_type": "code",
      "metadata": {
        "colab": {
          "base_uri": "https://localhost:8080/"
        },
        "id": "9cAjq-arsFJw",
        "outputId": "9929d122-fef6-4869-df74-29f4c265d3d6"
      },
      "source": [
        "l = [3, 1, 7, 9, 2]   # crearea unei liste implica utilizarea parantezelor []\n",
        "print(l) # parantezele rotunde sunt folosite pentru apelarea functiilor\n",
        "print('al doilea elemente este',l[1]) #atentie, indexul incepe de la 0.\n",
        "print('ultimul element din lista este',l[-1]) #Indicele negativ intoarce de la sfarsitul la inceputul listei elementul de pe pozitia data"
      ],
      "execution_count": null,
      "outputs": [
        {
          "output_type": "stream",
          "name": "stdout",
          "text": [
            "[3, 1, 7, 9, 2]\n",
            "al doilea elemente este 1\n",
            "ultimul element din lista este 2\n"
          ]
        }
      ]
    },
    {
      "cell_type": "markdown",
      "metadata": {
        "id": "_x2wRGYMxlAZ"
      },
      "source": [
        "Deoarce lista contine elemente de diferite tipuri, unul din elemente poate fi inlocuit cu un sir de caractere:\n"
      ]
    },
    {
      "cell_type": "code",
      "metadata": {
        "colab": {
          "base_uri": "https://localhost:8080/"
        },
        "id": "2FGGbrRnxuIC",
        "outputId": "370c52a3-7cf8-4d80-df81-b7dd5328793a"
      },
      "source": [
        "l[3]='soare'\n",
        "print(l)"
      ],
      "execution_count": null,
      "outputs": [
        {
          "output_type": "stream",
          "name": "stdout",
          "text": [
            "[3, 1, 7, 'soare', 2]\n"
          ]
        }
      ]
    },
    {
      "cell_type": "markdown",
      "metadata": {
        "id": "7BBHbWFQx_va"
      },
      "source": [
        "La sfarsitul listei se poate adauga un element:\n",
        "\n",
        "\n"
      ]
    },
    {
      "cell_type": "code",
      "metadata": {
        "colab": {
          "base_uri": "https://localhost:8080/"
        },
        "id": "hQ6Y1PsTyHgw",
        "outputId": "beadb94d-72eb-4c9c-c3fc-b199e604f7b5"
      },
      "source": [
        "l.append('tomnatic')#adauga la sfarsitul listei\n",
        "print(l)\n",
        "#extragerea acestui element din lista\n",
        "l.pop(-1)#stergerea elementului de pe ultima pozitie(-1)\n",
        "print(l)\n"
      ],
      "execution_count": null,
      "outputs": [
        {
          "output_type": "stream",
          "name": "stdout",
          "text": [
            "[3, 1, 7, 'soare', 2, 'tomnatic']\n",
            "[3, 1, 7, 'soare', 2]\n"
          ]
        }
      ]
    },
    {
      "cell_type": "markdown",
      "metadata": {
        "id": "3VuBSJ_S17dg"
      },
      "source": [
        "In plus fata de extragerea /inserarea unui element din lista, in Pyhon este posibila secventierea (slicing) unei liste.\n"
      ]
    },
    {
      "cell_type": "code",
      "metadata": {
        "colab": {
          "base_uri": "https://localhost:8080/"
        },
        "id": "BLIj5-0H2SWn",
        "outputId": "55f4ac6d-cf59-438b-b747-6470b863b7b4"
      },
      "source": [
        "a = list(range(7))    # range este o functie built in ce creaza o lista de var de tip integer that creates a list of integers de la 0 la n-1\n",
        "print(a)        \n",
        "print(a[2:4])    # exatragerea secventei dintre indexul 2 to 4 (exclusive)\n",
        "print(a[3:])     # extragerea secventei de la pozitia 3 pana la sfarsit\n",
        "print(a[:2])     # Extragerea secveneti de la start pana la pozitia  2 \n",
        "print(a[:])      # afiseaza intreaga lista\n",
        "print(a[:-3])    # afiseaza lista fara ultimele trei elemente\n",
        "a[5:6] = [238, 195] # inlocuieste o secventa din lista cu alta \n",
        "print(a)        \n",
        "print(len(a))    # len(a) determina lungimea listei"
      ],
      "execution_count": null,
      "outputs": [
        {
          "output_type": "stream",
          "name": "stdout",
          "text": [
            "[0, 1, 2, 3, 4, 5, 6]\n",
            "[2, 3]\n",
            "[3, 4, 5, 6]\n",
            "[0, 1]\n",
            "[0, 1, 2, 3, 4, 5, 6]\n",
            "[0, 1, 2, 3]\n",
            "[0, 1, 2, 3, 4, 238, 195, 6]\n",
            "8\n"
          ]
        }
      ]
    },
    {
      "cell_type": "markdown",
      "metadata": {
        "id": "jMdye6Dz6eye"
      },
      "source": [
        "#### Loops\n",
        "Parcugerea elementelor unei liste se poate face printr-un ***for***"
      ]
    },
    {
      "cell_type": "code",
      "metadata": {
        "colab": {
          "base_uri": "https://localhost:8080/"
        },
        "id": "GXTNdZyD7BMR",
        "outputId": "69f5bf91-41b7-4bf7-88cf-80a161847194"
      },
      "source": [
        "words = ['food', 'for', 'soul']\n",
        "for word in words:\n",
        "    print(word)"
      ],
      "execution_count": null,
      "outputs": [
        {
          "output_type": "stream",
          "name": "stdout",
          "text": [
            "food\n",
            "for\n",
            "soul\n"
          ]
        }
      ]
    },
    {
      "cell_type": "markdown",
      "metadata": {
        "id": "PV20yatg9SjG"
      },
      "source": [
        "Pentru a accesa indexul fiecărui element din interiorul  unei bucle se foloseste funcția ***enumerate***"
      ]
    },
    {
      "cell_type": "code",
      "metadata": {
        "colab": {
          "base_uri": "https://localhost:8080/"
        },
        "id": "j6C35g6W90Ri",
        "outputId": "1f33d6cf-d822-48fc-c646-8688a99c895f"
      },
      "source": [
        "words = ['food', 'for', 'soul']\n",
        "for idx, word in enumerate(words):\n",
        "    print('#{}: {}'.format(idx + 1, word)) #idx+1 pentru ca enumerarea sa inceapa de la 1"
      ],
      "execution_count": null,
      "outputs": [
        {
          "output_type": "stream",
          "name": "stdout",
          "text": [
            "#1: food\n",
            "#2: for\n",
            "#3: soul\n"
          ]
        }
      ]
    },
    {
      "cell_type": "markdown",
      "metadata": {
        "id": "Gub_GGlb-kVV"
      },
      "source": [
        "\"Simplificarea\" listelor ne permite sa transformam rapid un tip de date in altul. Ridicarea la patrat a elementelor unei liste\n"
      ]
    },
    {
      "cell_type": "code",
      "metadata": {
        "colab": {
          "base_uri": "https://localhost:8080/"
        },
        "id": "CniHqfCU_H58",
        "outputId": "4cf11724-0359-4b26-c775-77bf1a100c52"
      },
      "source": [
        "a = list(range(5))  # sau a=[0,1,2,3,4]\n",
        "squares = [] #initializarea liste de patrate perfecte\n",
        "for x in a:\n",
        "    squares.append(x ** 2) #adaugarea element cu element a elementelor din a^2\n",
        "print(squares)"
      ],
      "execution_count": null,
      "outputs": [
        {
          "output_type": "stream",
          "name": "stdout",
          "text": [
            "[0, 1, 4, 9, 16]\n"
          ]
        }
      ]
    },
    {
      "cell_type": "markdown",
      "metadata": {
        "id": "hwXcz5b0_mpG"
      },
      "source": [
        "se poate realiza mai simplu astfel:"
      ]
    },
    {
      "cell_type": "code",
      "metadata": {
        "colab": {
          "base_uri": "https://localhost:8080/"
        },
        "id": "PuOFUozk_vjs",
        "outputId": "4f7753e2-85b2-4dab-907f-50f707efa197"
      },
      "source": [
        "a = list(range(5))\n",
        "squares = [x ** 2 for x in a]\n",
        "print(squares)\n"
      ],
      "execution_count": null,
      "outputs": [
        {
          "output_type": "stream",
          "name": "stdout",
          "text": [
            "[0, 1, 4, 9, 16]\n"
          ]
        }
      ]
    },
    {
      "cell_type": "markdown",
      "metadata": {
        "id": "XjST1vlDBTIc"
      },
      "source": [
        "Sintaxele folosite pentru simplificare pot include si conditii, precum afisarea din lista doar a numerelor pare:"
      ]
    },
    {
      "cell_type": "code",
      "metadata": {
        "colab": {
          "base_uri": "https://localhost:8080/"
        },
        "id": "O7ED1H6_BZtP",
        "outputId": "de133e90-cb67-4984-d461-ddfef3c3bd25"
      },
      "source": [
        "a = list(range(5))\n",
        "nr_pare = [x ** 2 for x in a if x % 2 == 0]\n",
        "print(nr_pare)"
      ],
      "execution_count": null,
      "outputs": [
        {
          "output_type": "stream",
          "name": "stdout",
          "text": [
            "[0, 4, 16]\n"
          ]
        }
      ]
    },
    {
      "cell_type": "markdown",
      "metadata": {
        "id": "oMgaBV8gDHiz"
      },
      "source": [
        "\n",
        "###Dictionare"
      ]
    },
    {
      "cell_type": "markdown",
      "metadata": {
        "id": "jFB_nSnfC-OA"
      },
      "source": [
        "Un dicționar memoreaza perechi (cheie, valoare), similar cu o hartă în Java sau unui obiect în Javascript. Se poate folosi astfel:"
      ]
    },
    {
      "cell_type": "code",
      "metadata": {
        "colab": {
          "base_uri": "https://localhost:8080/"
        },
        "id": "zbXTt-5BDe69",
        "outputId": "ac7fdee2-9390-43ce-ae6c-7bdc988eb1fe"
      },
      "source": [
        "dict = {'persoana': 2, 'pisica': 4, 'omida': 16} #pentru dictionar se folosesc {}\n",
        "for fiinta, picioare in dict.items():\n",
        "    print('O {} are {} picioare.'.format(fiinta, picioare))\n",
        "dict ={'2 goluri':5,'6 pase':4,'5 cartonase':8}\n",
        "for statistica, valoare in dict.items():\n",
        "    print('un fotbalist are {} in {} meciuri'.format(statistica,valoare))"
      ],
      "execution_count": null,
      "outputs": [
        {
          "output_type": "stream",
          "name": "stdout",
          "text": [
            "O persoana are 2 picioare.\n",
            "O pisica are 4 picioare.\n",
            "O omida are 16 picioare.\n",
            "un fotbalist are 2 goluri in 5 meciuri\n",
            "un fotbalist are 6 pase in 4 meciuri\n",
            "un fotbalist are 5 cartonase in 8 meciuri\n"
          ]
        }
      ]
    },
    {
      "cell_type": "markdown",
      "metadata": {
        "id": "cGEGH0jjFE79"
      },
      "source": [
        "Afisarea valorii unei chei din dictionar:\n"
      ]
    },
    {
      "cell_type": "code",
      "metadata": {
        "id": "k-4tDZyCFOXK"
      },
      "source": [
        "#print(dict['omida'])\n",
        "#  print(dict['5 cartonase'])"
      ],
      "execution_count": null,
      "outputs": []
    },
    {
      "cell_type": "markdown",
      "metadata": {
        "id": "yZFrXodQDcG2"
      },
      "source": [
        "###Multimi\n",
        "o multime este o colecție neordonată de elemente distincte. Fie o multime definita astfel:"
      ]
    },
    {
      "cell_type": "code",
      "metadata": {
        "colab": {
          "base_uri": "https://localhost:8080/"
        },
        "id": "P4j9OwfOAG68",
        "outputId": "231c0eef-17d7-4944-b4d6-5b515d0988b2"
      },
      "source": [
        "animals = {'cat', 'dog'} \n",
        "print('cat' in animals)   # Check if an element is in a set; prints \"True\"\n",
        "print('fish' in animals)  # prints \"False\""
      ],
      "execution_count": null,
      "outputs": [
        {
          "output_type": "stream",
          "name": "stdout",
          "text": [
            "True\n",
            "False\n"
          ]
        }
      ]
    },
    {
      "cell_type": "markdown",
      "metadata": {
        "id": "DqNZqNBgGalu"
      },
      "source": [
        "Multimile permit adaugarea/extragerea unui element:\n"
      ]
    },
    {
      "cell_type": "code",
      "metadata": {
        "colab": {
          "base_uri": "https://localhost:8080/"
        },
        "id": "MjmWIij7GhcN",
        "outputId": "1c068c99-5890-496c-903b-0c7a635fd8d8"
      },
      "source": [
        "animals.add('fish')     \n",
        "print('fish' in animals) # verifica  introducerea elementului in multime\n",
        "print(len(animals)) # cate elemente are multimea\n",
        "animals.remove('cat')#stergem elementul din multime\n",
        "print(len(animals))\n"
      ],
      "execution_count": null,
      "outputs": [
        {
          "output_type": "stream",
          "name": "stdout",
          "text": [
            "True\n",
            "3\n",
            "2\n"
          ]
        }
      ]
    },
    {
      "cell_type": "markdown",
      "metadata": {
        "id": "uvowJncGLhl6"
      },
      "source": [
        "Operatiunile cu multimi pot fi de asemenea simplificate similar cu cazul listelor sau al dictionarelor:\n"
      ]
    },
    {
      "cell_type": "code",
      "metadata": {
        "colab": {
          "base_uri": "https://localhost:8080/"
        },
        "id": "IXKa4M6eMN6c",
        "outputId": "60da9a0a-43b1-40ec-bf9e-53badf8e246c"
      },
      "source": [
        "# extragerea radicalului din multimea numerelor pana la 30\n",
        "from math import sqrt\n",
        "print({int(sqrt(x)) for x in range(30)})"
      ],
      "execution_count": null,
      "outputs": [
        {
          "output_type": "stream",
          "name": "stdout",
          "text": [
            "{0, 1, 2, 3, 4, 5}\n"
          ]
        }
      ]
    },
    {
      "cell_type": "markdown",
      "metadata": {
        "id": "qEaERW_BM1WY"
      },
      "source": [
        "###Tuple\n",
        "Un tuplu este o listă ordonată (invariabila) de valori. Un tuplu este în multe feluri similar cu o listă; Una dintre cele mai importante diferențe este că tuplurile pot fi utilizate drept chei în dicționare sau ca elemente ale multimilor, în timp ce listele nu. Iată un exemplu:"
      ]
    },
    {
      "cell_type": "code",
      "metadata": {
        "colab": {
          "base_uri": "https://localhost:8080/"
        },
        "id": "T7kGfbaYNLFX",
        "outputId": "9b9c4dc8-43ec-4abb-efd6-3dc8c9a5ec49"
      },
      "source": [
        "d = {(x, x + 1): x for x in range(10)}  # Crearea unui dictionar cu chei de tip tuple\n",
        "t = (5, 6)  \n",
        "print(t)      # crearea unui tuplu\n",
        "print(type(t))\n",
        "print(d)       \n",
        "print(d[t])\n",
        "print(d[(1,2)])# afisarea unei valori pentru o cheie tuplu din dictionarul d"
      ],
      "execution_count": null,
      "outputs": [
        {
          "output_type": "stream",
          "name": "stdout",
          "text": [
            "(5, 6)\n",
            "<class 'tuple'>\n",
            "{(0, 1): 0, (1, 2): 1, (2, 3): 2, (3, 4): 3, (4, 5): 4, (5, 6): 5, (6, 7): 6, (7, 8): 7, (8, 9): 8, (9, 10): 9}\n",
            "5\n",
            "1\n"
          ]
        }
      ]
    },
    {
      "cell_type": "markdown",
      "metadata": {
        "id": "ncZYQlIsU5bM"
      },
      "source": [
        "\n",
        "##Definirea functiilor"
      ]
    },
    {
      "cell_type": "markdown",
      "metadata": {
        "id": "RBRD94UXHSBD"
      },
      "source": [
        "Definirea unei functii in Python impune folosirea cuvatului cheie ***def*** urmata de numele functiei."
      ]
    },
    {
      "cell_type": "code",
      "metadata": {
        "colab": {
          "base_uri": "https://localhost:8080/"
        },
        "id": "F3vHRP-CruG5",
        "outputId": "8e981152-91b2-46ae-b82a-5e789b672978"
      },
      "source": [
        "def sign(x):\n",
        "    if x > 0:\n",
        "        return 'positive'\n",
        "    elif x < 0:\n",
        "        return 'negative'\n",
        "    else:\n",
        "        return 'zero'\n",
        "\n",
        "for x in [-7, 0, 3]: # apelarea functiei \n",
        "    print(sign(x))\n",
        "    #o functie care priomeste param o lista si returneaza numerele pare\n",
        "  \n",
        "l = [2,0,10,3, 1, 7, 9, 2]   # crearea unei liste implica utilizarea parantezelor []\n",
        "def par(l):\n",
        "  if x%2==0:\n",
        "    print(x)\n",
        "par(3)\n",
        "#print(par(3))"
      ],
      "execution_count": null,
      "outputs": [
        {
          "output_type": "stream",
          "name": "stdout",
          "text": [
            "negative\n",
            "zero\n",
            "positive\n"
          ]
        }
      ]
    },
    {
      "cell_type": "code",
      "source": [
        "a = [2 , 4, 6, 1, 9, 10]\n",
        "for x in a:\n",
        "    if x % 2 == 0 :\n",
        "       s = s+x\n",
        "       print(s)"
      ],
      "metadata": {
        "id": "gMrRyDdlAwAx"
      },
      "execution_count": null,
      "outputs": []
    },
    {
      "cell_type": "markdown",
      "metadata": {
        "id": "WilTTa52Jjzy"
      },
      "source": [
        "# Numpy\n",
        "Numpy este biblioteca de bază pentru calcul științific în Python. Oferă un structura de tip matrice multidimensionala de înaltă performanță și instrumente pentru lucrul cu aceste matrici. Dacă sunteți deja familiarizat cu MATLAB,  acest tutorial  este util pentru a folosi avantajele Numpy.\n",
        "Pentru a utiliza Numpy (vezi [cheet sheet](https://s3.amazonaws.com/assets.datacamp.com/blog_assets/Numpy_Python_Cheat_Sheet.pdf)), trebuie se importa mai întâi pachetul numpy:"
      ]
    },
    {
      "cell_type": "code",
      "metadata": {
        "id": "Xvr3l-EIMFiz"
      },
      "source": [
        "import numpy as np"
      ],
      "execution_count": null,
      "outputs": []
    },
    {
      "cell_type": "markdown",
      "metadata": {
        "id": "LoityI26MO9h"
      },
      "source": [
        "##Matrici\n",
        "\n",
        "O matrice numpy este un tabel de valori, toate de același tip, indexată de un tuplu de numere întregi nenegative. Numărul de dimensiuni este rangul matricei; forma unui tablou este un tuplu de numere întregi care oferă dimensiunea tabloului de-a lungul fiecărei dimensiuni.\n",
        "Putem inițializa matrice numpy din liste Python suprapuse și accesa elementele unei matrici folosind paranteze pătrate:"
      ]
    },
    {
      "cell_type": "code",
      "metadata": {
        "colab": {
          "base_uri": "https://localhost:8080/"
        },
        "id": "oNMaaL4nMSQU",
        "outputId": "d433baf1-577b-4521-8875-663766c0123d"
      },
      "source": [
        "A = np.array([1, 2, 3])  # Crearea unei matrici unidimensionale- vector\n",
        "print(type(A), A.shape, A[0], A[1], A[2])\n",
        "A[0] = 5                 # Modificarea unui element \n",
        "print(A)"
      ],
      "execution_count": null,
      "outputs": [
        {
          "output_type": "stream",
          "name": "stdout",
          "text": [
            "<class 'numpy.ndarray'> (3,) 1 2 3\n",
            "[5 2 3]\n"
          ]
        }
      ]
    },
    {
      "cell_type": "code",
      "metadata": {
        "colab": {
          "base_uri": "https://localhost:8080/"
        },
        "id": "y3LMgs7-NUAh",
        "outputId": "3ac1e7ac-a052-4e1b-d438-760782a00314"
      },
      "source": [
        "B = np.array([[1,2,3],[4,5,6]])   # Crearea unei matrici bidimensionale\n",
        "print(B)\n",
        "print(B[0,0])# Afisarea primului element al matricii.Atentie, nu uitati ca indexarea incepe de la (0,0)"
      ],
      "execution_count": null,
      "outputs": [
        {
          "output_type": "stream",
          "name": "stdout",
          "text": [
            "[[1 2 3]\n",
            " [4 5 6]]\n",
            "1\n"
          ]
        }
      ]
    },
    {
      "cell_type": "markdown",
      "metadata": {
        "id": "Pw8YCc5SN3Vl"
      },
      "source": [
        "Numpy permite si crearea unor matrici standar (matrice nula, matricea identitate):\n"
      ]
    },
    {
      "cell_type": "code",
      "metadata": {
        "colab": {
          "base_uri": "https://localhost:8080/"
        },
        "id": "1dL3_tvlOAPe",
        "outputId": "2f036fd6-6c30-42c2-ca88-c5bef87c354c"
      },
      "source": [
        "A = np.zeros((2,2))  # Creare unei matrici 2 x 2 de elemente nule\n",
        "print(A)"
      ],
      "execution_count": null,
      "outputs": [
        {
          "output_type": "stream",
          "name": "stdout",
          "text": [
            "[[0. 0.]\n",
            " [0. 0.]]\n"
          ]
        }
      ]
    },
    {
      "cell_type": "code",
      "metadata": {
        "colab": {
          "base_uri": "https://localhost:8080/"
        },
        "id": "USfRR6NaOKW3",
        "outputId": "18d6d6d3-b765-4867-9690-7c0499aedabf"
      },
      "source": [
        "B = np.ones((3,4))   # Crearea unei matrici de elemente 1\n",
        "print(B)"
      ],
      "execution_count": null,
      "outputs": [
        {
          "output_type": "stream",
          "name": "stdout",
          "text": [
            "[[1. 1. 1. 1.]\n",
            " [1. 1. 1. 1.]\n",
            " [1. 1. 1. 1.]]\n"
          ]
        }
      ]
    },
    {
      "cell_type": "code",
      "metadata": {
        "colab": {
          "base_uri": "https://localhost:8080/"
        },
        "id": "-9lPMNJVOXA7",
        "outputId": "2d40b6a3-a3d6-47c1-d9ff-f986c3ea1566"
      },
      "source": [
        "C = np.full((3,3), 4) # Crearea unei matrici cu acelasi elemewnt\n",
        "print(C)"
      ],
      "execution_count": null,
      "outputs": [
        {
          "output_type": "stream",
          "name": "stdout",
          "text": [
            "[[4 4 4]\n",
            " [4 4 4]\n",
            " [4 4 4]]\n"
          ]
        }
      ]
    },
    {
      "cell_type": "code",
      "metadata": {
        "colab": {
          "base_uri": "https://localhost:8080/"
        },
        "id": "P5KT8OnzOnlg",
        "outputId": "b45fd0a8-629a-4251-8603-9e487519af52"
      },
      "source": [
        "D = np.eye(2)        # Crearea matricii identitate\n",
        "print(D)"
      ],
      "execution_count": null,
      "outputs": [
        {
          "output_type": "stream",
          "name": "stdout",
          "text": [
            "[[1. 0.]\n",
            " [0. 1.]]\n"
          ]
        }
      ]
    },
    {
      "cell_type": "code",
      "metadata": {
        "colab": {
          "base_uri": "https://localhost:8080/"
        },
        "id": "ihNJLPAcOs0A",
        "outputId": "be7a1257-72c0-460d-8aba-a0bd481801ed"
      },
      "source": [
        "E = np.random.random((3,3)) # Crearea unei matrici cu elemente aleatoare\n",
        "print(E)"
      ],
      "execution_count": null,
      "outputs": [
        {
          "output_type": "stream",
          "name": "stdout",
          "text": [
            "[[0.23676614 0.88394778 0.13678861]\n",
            " [0.41060027 0.71049441 0.12757206]\n",
            " [0.56773119 0.97202328 0.93454675]]\n"
          ]
        }
      ]
    },
    {
      "cell_type": "markdown",
      "metadata": {
        "id": "3-hxGUqMO7cg"
      },
      "source": [
        "##Indexarea matricilor\n",
        "\n",
        "Numpy oferă mai multe modalități de indexare în matrice.\n",
        "Secventiere: Similar listelor Python, pot fi extrase matrici numpy. Deoarece matricile pot fi multidimensionale (ex. in cazul imaginilor), este necesara specificarea secventei pentru fiecare dimensiune a matricei:"
      ]
    },
    {
      "cell_type": "code",
      "metadata": {
        "colab": {
          "base_uri": "https://localhost:8080/"
        },
        "id": "YuUrfdGHOsmX",
        "outputId": "713fb24b-1b30-4c6a-9674-4ece4707d469"
      },
      "source": [
        "\n",
        "#Fie o matrice bidimensionala a(3, 4):\n",
        "\n",
        "A = np.array([[1,2,3,4], [5,6,7,8], [9,10,11,12]])\n",
        "print('A=',A)\n",
        "\n",
        "# Secventierea pentru a extrage coloana a doua adica o un vector coloana(3, 1):\n",
        "B = A[:3, 1:2] #:3 toate elementele de pe linii, 1:2 coloana a 2 a \n",
        "print('B=',B)\n"
      ],
      "execution_count": null,
      "outputs": [
        {
          "output_type": "stream",
          "name": "stdout",
          "text": [
            "A= [[ 1  2  3  4]\n",
            " [ 5  6  7  8]\n",
            " [ 9 10 11 12]]\n",
            "B= [[ 2]\n",
            " [ 6]\n",
            " [10]]\n"
          ]
        }
      ]
    },
    {
      "cell_type": "markdown",
      "metadata": {
        "id": "pQ8KKAMtmWEA"
      },
      "source": [
        "Transpunerea unei matrici A se obtine folosind instructiunea A.transpose()\n",
        "\n",
        "$A_{2,3} =\n",
        " \\begin{pmatrix}\n",
        "  a_{0,0} & a_{0,1} & a_{0,2} \\\\\n",
        "  a_{1,0} & a_{1,1} & a_{1,2} \\\\\n",
        " \\end{pmatrix}$\n",
        "\n",
        " obtinandu-se\n",
        "\n",
        "$A_{3,2} =\n",
        " \\begin{pmatrix}\n",
        "  a_{0,0} & a_{1,0}  \\\\\n",
        "  a_{0,1} & a_{1,1}  \\\\\n",
        "   a_{0,2} & a_{1,2}\n",
        " \\end{pmatrix}$\n"
      ]
    },
    {
      "cell_type": "code",
      "metadata": {
        "colab": {
          "base_uri": "https://localhost:8080/"
        },
        "id": "eKYbzROszZ8n",
        "outputId": "94e0fe50-3ac1-4c6d-e15d-7ee4b6087546"
      },
      "source": [
        "A = np.array([[1,2,3], [5,6,7]])\n",
        "print('A=',A)\n",
        "B=A.transpose()\n",
        "print('B=',B)"
      ],
      "execution_count": null,
      "outputs": [
        {
          "output_type": "stream",
          "name": "stdout",
          "text": [
            "A= [[1 2 3]\n",
            " [5 6 7]]\n",
            "B= [[1 5]\n",
            " [2 6]\n",
            " [3 7]]\n"
          ]
        }
      ]
    },
    {
      "cell_type": "markdown",
      "metadata": {
        "id": "OykgMBMIXIAH"
      },
      "source": [
        "#Matplotlib\n",
        "Matplotlib (vezi [cheet sheet](https://s3.amazonaws.com/assets.datacamp.com/blog_assets/Python_Matplotlib_Cheat_Sheet.pdf) ) este o librarie dedicata vizulizarii grafice a datelor. In sectiunea urmatoare sunt prezentate cateva dintre functiile acesteia similiare de altfel cu cele existente in MATLAB."
      ]
    },
    {
      "cell_type": "code",
      "metadata": {
        "id": "xeiq7yOiXTyA"
      },
      "source": [
        "import matplotlib.pyplot as plt"
      ],
      "execution_count": null,
      "outputs": []
    },
    {
      "cell_type": "markdown",
      "metadata": {
        "id": "yC8cNXY0XbLf"
      },
      "source": [
        "Functia cea mai des folosita este plot, ce permite redarea unui grafic bidimensional."
      ]
    },
    {
      "cell_type": "code",
      "metadata": {
        "colab": {
          "base_uri": "https://localhost:8080/",
          "height": 384
        },
        "id": "PrW3dDaHXblp",
        "outputId": "0736647f-c133-436c-ab57-64f900e4c01a"
      },
      "source": [
        "# Calculul punctelor x si y pentru reprezentarea functiei sin\n",
        "x = np.arange(0, 3 * np.pi, 0.1) # definirea unui vector de valori intre 0 si 3pi, cu pas de 0.1\n",
        "y = np.sin(x)\n",
        "print(x)\n",
        "# Plot the points using matplotlib\n",
        "plt.plot(x, y)"
      ],
      "execution_count": null,
      "outputs": [
        {
          "output_type": "stream",
          "name": "stdout",
          "text": [
            "[0.  0.1 0.2 0.3 0.4 0.5 0.6 0.7 0.8 0.9 1.  1.1 1.2 1.3 1.4 1.5 1.6 1.7\n",
            " 1.8 1.9 2.  2.1 2.2 2.3 2.4 2.5 2.6 2.7 2.8 2.9 3.  3.1 3.2 3.3 3.4 3.5\n",
            " 3.6 3.7 3.8 3.9 4.  4.1 4.2 4.3 4.4 4.5 4.6 4.7 4.8 4.9 5.  5.1 5.2 5.3\n",
            " 5.4 5.5 5.6 5.7 5.8 5.9 6.  6.1 6.2 6.3 6.4 6.5 6.6 6.7 6.8 6.9 7.  7.1\n",
            " 7.2 7.3 7.4 7.5 7.6 7.7 7.8 7.9 8.  8.1 8.2 8.3 8.4 8.5 8.6 8.7 8.8 8.9\n",
            " 9.  9.1 9.2 9.3 9.4]\n"
          ]
        },
        {
          "output_type": "execute_result",
          "data": {
            "text/plain": [
              "[<matplotlib.lines.Line2D at 0x7f7adabcced0>]"
            ]
          },
          "metadata": {},
          "execution_count": 19
        },
        {
          "output_type": "display_data",
          "data": {
            "image/png": "[encoded data removed]",
            "text/plain": [
              "<Figure size 432x288 with 1 Axes>"
            ]
          },
          "metadata": {
            "needs_background": "light"
          }
        }
      ]
    },
    {
      "cell_type": "code",
      "metadata": {
        "colab": {
          "base_uri": "https://localhost:8080/",
          "height": 312
        },
        "id": "1lFoRPas3TIg",
        "outputId": "368ca01b-0a65-47f8-bc90-43dbe732f676"
      },
      "source": [
        "# 2 grafice pe aceeasi axa de coordonate\n",
        "y_sin = np.sin(x)\n",
        "y_cos = np.cos(x)\n",
        "\n",
        "# reprezentare, etichetare axa, adaugarea titlului, a legendei\n",
        "plt.plot(x, y_sin)\n",
        "plt.plot(x, y_cos)\n",
        "plt.xlabel('x axis label')\n",
        "plt.ylabel('y axis label')\n",
        "plt.title('Sine and Cosine')\n",
        "plt.legend(['Sine', 'Cosine'])"
      ],
      "execution_count": null,
      "outputs": [
        {
          "output_type": "execute_result",
          "data": {
            "text/plain": [
              "<matplotlib.legend.Legend at 0x7f7adb09e490>"
            ]
          },
          "metadata": {},
          "execution_count": 20
        },
        {
          "output_type": "display_data",
          "data": {
            "image/png": "[encoded data removed]",
            "text/plain": [
              "<Figure size 432x288 with 1 Axes>"
            ]
          },
          "metadata": {
            "needs_background": "light"
          }
        }
      ]
    },
    {
      "cell_type": "markdown",
      "metadata": {
        "id": "dH0tcvYkBU0d"
      },
      "source": [
        "##Categorii de valori  - Bar/Barh"
      ]
    },
    {
      "cell_type": "code",
      "metadata": {
        "colab": {
          "base_uri": "https://localhost:8080/",
          "height": 530
        },
        "id": "o4_FJNE5BnoI",
        "outputId": "8e2d523e-0723-42b1-cf2c-2738bcdb2175"
      },
      "source": [
        "limbaje = ['C++', 'Matlab', 'Python', 'Java',]\n",
        "nr_de_studenti = [3, 2, 5, 2]\n",
        "\n",
        "plt.bar(limbaje, nr_de_studenti)\n",
        "plt.figure()\n",
        "plt.barh(limbaje, nr_de_studenti, color='green')  "
      ],
      "execution_count": null,
      "outputs": [
        {
          "output_type": "execute_result",
          "data": {
            "text/plain": [
              "<BarContainer object of 4 artists>"
            ]
          },
          "metadata": {},
          "execution_count": 39
        },
        {
          "output_type": "display_data",
          "data": {
            "image/png": "[encoded data removed]",
            "text/plain": [
              "<Figure size 432x288 with 1 Axes>"
            ]
          },
          "metadata": {
            "needs_background": "light"
          }
        },
        {
          "output_type": "display_data",
          "data": {
            "image/png": "[encoded data removed]",
            "text/plain": [
              "<Figure size 432x288 with 1 Axes>"
            ]
          },
          "metadata": {
            "needs_background": "light"
          }
        }
      ]
    },
    {
      "cell_type": "code",
      "metadata": {
        "colab": {
          "base_uri": "https://localhost:8080/",
          "height": 281
        },
        "id": "YnijUxRZEWdf",
        "outputId": "152eb563-7a51-463b-ec22-4bca34f4ba74"
      },
      "source": [
        "plt.pie(nr_de_studenti, labels = limbaje);\n",
        "plt.title('Preferintele studentilor in programare')"
      ],
      "execution_count": null,
      "outputs": [
        {
          "output_type": "execute_result",
          "data": {
            "text/plain": [
              "Text(0.5, 1.0, 'Preferintele studentilor in programare')"
            ]
          },
          "metadata": {},
          "execution_count": 41
        },
        {
          "output_type": "display_data",
          "data": {
            "image/png": "[encoded data removed]",
            "text/plain": [
              "<Figure size 432x288 with 1 Axes>"
            ]
          },
          "metadata": {}
        }
      ]
    },
    {
      "cell_type": "markdown",
      "metadata": {
        "id": "wesdLpTpD4WM"
      },
      "source": [
        "## Distributia si frecventa datelor - Hist"
      ]
    },
    {
      "cell_type": "code",
      "metadata": {
        "colab": {
          "base_uri": "https://localhost:8080/",
          "height": 316
        },
        "id": "r6sZey6TEEKn",
        "outputId": "58a99764-fa4b-458f-a35a-77587f690f33"
      },
      "source": [
        "plt.hist([1, 2, 2, 3, 3, 3, 4, 4, 10], color='b')"
      ],
      "execution_count": null,
      "outputs": [
        {
          "output_type": "execute_result",
          "data": {
            "text/plain": [
              "(array([1., 2., 3., 2., 0., 0., 0., 0., 0., 1.]),\n",
              " array([ 1. ,  1.9,  2.8,  3.7,  4.6,  5.5,  6.4,  7.3,  8.2,  9.1, 10. ]),\n",
              " <a list of 10 Patch objects>)"
            ]
          },
          "metadata": {},
          "execution_count": 30
        },
        {
          "output_type": "display_data",
          "data": {
            "image/png": "[encoded data removed]",
            "text/plain": [
              "<Figure size 432x288 with 1 Axes>"
            ]
          },
          "metadata": {
            "needs_background": "light"
          }
        }
      ]
    },
    {
      "cell_type": "markdown",
      "metadata": {
        "id": "JKNG7eZX5N35"
      },
      "source": [
        "#Exercitii\n",
        "1. Calculul cantitatii de informatie obtinute pentru experimentul aruncarii cu banul. \n"
      ]
    },
    {
      "cell_type": "code",
      "metadata": {
        "colab": {
          "base_uri": "https://localhost:8080/"
        },
        "id": "r60_9uTw5W8g",
        "outputId": "66a68d5b-e5f2-411c-f238-e45057caa7ac"
      },
      "source": [
        "from math import log2\n",
        "# probabilitatea  de aparitie a evenimentului \"cap\" sau \"pajura\"\n",
        "p =1/2\n",
        "# informatia obtinuta dupa realizarea acestui eveniment\n",
        "i = -log2(p)\n",
        "print('p(x)=%.2f, information: %.2f bits' % (p, i))"
      ],
      "execution_count": null,
      "outputs": [
        {
          "output_type": "stream",
          "name": "stdout",
          "text": [
            "p(x)=0.50, information: 1.00 bits\n"
          ]
        }
      ]
    },
    {
      "cell_type": "markdown",
      "metadata": {
        "id": "3-ZNKL151x3b"
      },
      "source": [
        "\n",
        "\n",
        "2. Calculul entropiei pentru experimentul aruncarii cu zarul. Pentru orice densitate de probabilitate se poate defini notiunea de entropie, ce are multe proprietati in comun cu ceea ce ar trebui sa fie  o masura a informatiei. Continutul informational al unui rezultat $x$, definit de Shannon, este: \n",
        "\\begin{equation}\n",
        "H(X)=-\\sum_{i=1}^{n}p(x_{i})log_{2} {p(x_{i})},\n",
        "\\end{equation}\n"
      ]
    },
    {
      "cell_type": "code",
      "metadata": {
        "id": "BC9SlrP3ppwo",
        "colab": {
          "base_uri": "https://localhost:8080/"
        },
        "outputId": "654ec963-7270-4da9-c902-bea7fdcebe68"
      },
      "source": [
        "from math import log2\n",
        "# numarul de rezultate posibile\n",
        "n = 6\n",
        "# probabilitatea asociata fiecarui rezultat- evenimente echiprobabile, distributie uniforma [1/6, 1/6...1/6]\n",
        "prob = [1.0 /n]*n #intreg impartit, ca sa obtin probabilitatea,multiplicarea cu n a listei imi copiaza continutul de n ori\n",
        "print(prob)\n",
        "# calculul entropiei\n",
        "entropia = -sum([p * log2(p) for p in prob])\n",
        "# print the result\n",
        "print('Entropia: %.2f biti' % entropia)"
      ],
      "execution_count": null,
      "outputs": [
        {
          "output_type": "stream",
          "name": "stdout",
          "text": [
            "[0.16666666666666666, 0.16666666666666666, 0.16666666666666666, 0.16666666666666666, 0.16666666666666666, 0.16666666666666666]\n",
            "Entropia: 2.58 biti\n"
          ]
        }
      ]
    },
    {
      "cell_type": "markdown",
      "metadata": {
        "id": "03tCfn7LfRL-"
      },
      "source": [
        "3. Informatia proprie asupra realizarii unui eveniment $x_{i}$ ce rezulta chiar din realizarea acelui eveniment, este o functie de probabilitatea de realizare. Ce se intampla cu valoarea informatiei pe masura ce creste probabilitatea de realizare catre 1 (evenimentul sigur)? \n"
      ]
    },
    {
      "cell_type": "code",
      "metadata": {
        "colab": {
          "base_uri": "https://localhost:8080/",
          "height": 329
        },
        "id": "cWn_mlZR56en",
        "outputId": "80c75a84-fabe-4c15-d5ce-bd3812464837"
      },
      "source": [
        "# Informatia proprie in functie de probabilitate\n",
        "from math import log2\n",
        "from matplotlib import pyplot as plt\n",
        "# valori ale probabilitatii\n",
        "prob = [0.1, 0.2, 0.3, 0.4, 0.5, 0.6, 0.7, 0.8, 0.9, 1.0]\n",
        "# calculul informatiei proprii pentru fiecare valoare\n",
        "infp = [-log2(p) for p in prob]\n",
        "# reprezetare grafica - evolutia informatiei proprii cu cresterea probabilitatii \n",
        "plt.plot(prob, infp, marker='*')\n",
        "plt.title('Dependenta Informatiei proprii de probabilitate ')\n",
        "plt.xlabel('Probabilitate')\n",
        "plt.ylabel('Informatie proprie')\n",
        "#plt.show()"
      ],
      "execution_count": null,
      "outputs": [
        {
          "output_type": "stream",
          "name": "stdout",
          "text": [
            "3.5431651821620047\n"
          ]
        },
        {
          "output_type": "execute_result",
          "data": {
            "text/plain": [
              "Text(0, 0.5, 'Informatie proprie')"
            ]
          },
          "metadata": {},
          "execution_count": 16
        },
        {
          "output_type": "display_data",
          "data": {
            "image/png": "[encoded data removed]",
            "text/plain": [
              "<Figure size 432x288 with 1 Axes>"
            ]
          },
          "metadata": {
            "needs_background": "light"
          }
        }
      ]
    },
    {
      "cell_type": "markdown",
      "metadata": {
        "id": "KHGGsP_ukEOQ"
      },
      "source": [
        "4. Calculul entropiei unei variabile aleatoare"
      ]
    },
    {
      "cell_type": "code",
      "metadata": {
        "colab": {
          "base_uri": "https://localhost:8080/"
        },
        "id": "UZQCjRku6Z_w",
        "outputId": "27ef9d81-ff3d-411c-97ef-463ddc661a94"
      },
      "source": [
        "\n",
        "# calculul entropiei pentru diverse distributii de probabilitate\n",
        "from math import log2\n",
        "from matplotlib import pyplot\n",
        " \n",
        "# crearea unei functii pentru calculul entropiei \n",
        "def entropie(events, ets=1e-30):\n",
        "\treturn -sum([p * log2(p + ets) for p in events])\n",
        "# introducerea vectorului de probabilitati\n",
        "prob = (0.2, 0.05, 0.4, 0.15, 0.2)\n",
        "\n",
        "H = entropie(prob)\n",
        "print('H=',H,'biti')\n",
        "\n",
        "\n",
        "\n"
      ],
      "execution_count": null,
      "outputs": [
        {
          "output_type": "stream",
          "name": "stdout",
          "text": [
            "H= 2.0841837197791886 biti\n"
          ]
        }
      ]
    },
    {
      "cell_type": "markdown",
      "metadata": {
        "id": "L1kZWUbbbu_y"
      },
      "source": [
        "#Bibliografie\n",
        "\n",
        "\n",
        "1.   [Overview of Colaboratory features](https://colab.research.google.com/notebooks/basic_features_overview.ipynb#scrollTo=JyG45Qk3qQLS) \n",
        "2.   [External data:Local files, drive, sheets and cloud storage](https://colab.research.google.com/notebooks/io.ipynb) \n",
        "3. [Calcul si algebra liniara ](https://stanford.edu/~shervine/teaching/cs-229/refresher-algebra-calculus)\n",
        "4. [Introducere in probabilitati si statistica ](https://stanford.edu/~shervine/teaching/cs-229/refresher-probabilities-statistics)\n",
        "5. [Memorator - Python 3](https://perso.limsi.fr/pointal/python:memento)\n",
        "\n",
        "\n",
        "\n"
      ]
    },
    {
      "cell_type": "markdown",
      "metadata": {
        "id": "kRLvY-esqBHn"
      },
      "source": [
        "#Anexa 1- Utilizarea Google Drive local"
      ]
    },
    {
      "cell_type": "code",
      "metadata": {
        "colab": {
          "base_uri": "https://localhost:8080/"
        },
        "id": "g-eG0e_8gu9g",
        "outputId": "ed441123-a196-46b7-f0b7-0f3c9bb1e288"
      },
      "source": [
        "from google.colab import drive\n",
        "drive.mount('/content/drive')"
      ],
      "execution_count": null,
      "outputs": [
        {
          "output_type": "stream",
          "name": "stdout",
          "text": [
            "Mounted at /content/drive\n"
          ]
        }
      ]
    },
    {
      "cell_type": "code",
      "metadata": {
        "id": "3-LUCg4y5Lpv"
      },
      "source": [],
      "execution_count": null,
      "outputs": []
    }
  ]
}